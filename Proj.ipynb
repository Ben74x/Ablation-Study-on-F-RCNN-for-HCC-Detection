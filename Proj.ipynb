{
 "cells": [
  {
   "cell_type": "code",
   "execution_count": 1,
   "id": "94c27595",
   "metadata": {
    "scrolled": true
   },
   "outputs": [],
   "source": [
    "import pathlib\n",
    "from utils import get_filenames_of_path"
   ]
  },
  {
   "cell_type": "code",
   "execution_count": null,
   "id": "fe1b1c99",
   "metadata": {},
   "outputs": [],
   "source": []
  },
  {
   "cell_type": "code",
   "execution_count": 2,
   "id": "4a48cce9",
   "metadata": {},
   "outputs": [],
   "source": [
    "# imports\n",
    "\n",
    "import numpy as np\n",
    "from torchvision.models.detection.transform import GeneralizedRCNNTransform\n",
    "\n",
    "from pytorch_faster_rcnn.datasets import ObjectDetectionDataSet\n",
    "from pytorch_faster_rcnn.transformations import Clip, ComposeDouble\n",
    "from pytorch_faster_rcnn.transformations import FunctionWrapperDouble\n",
    "from pytorch_faster_rcnn.transformations import normalize_01\n",
    "from pytorch_faster_rcnn.utils import get_filenames_of_path\n",
    "from pytorch_faster_rcnn.utils import stats_dataset\n",
    "from pytorch_faster_rcnn.visual import DatasetViewer"
   ]
  },
  {
   "cell_type": "code",
   "execution_count": 3,
   "id": "191d935a",
   "metadata": {},
   "outputs": [],
   "source": [
    "# root directory\n",
    "root = pathlib.Path('/home/bdwumah74/Indiv_Proj/Dataset')"
   ]
  },
  {
   "cell_type": "code",
   "execution_count": 4,
   "id": "abdea2d0",
   "metadata": {},
   "outputs": [],
   "source": [
    "# input and target files\n",
    "inputs = get_filenames_of_path(root / 'input')\n",
    "targets = get_filenames_of_path(root / 'target')\n",
    "\n",
    "inputs.sort()\n",
    "targets.sort()\n"
   ]
  },
  {
   "cell_type": "code",
   "execution_count": 5,
   "id": "12240c2c",
   "metadata": {},
   "outputs": [],
   "source": [
    "# mapping\n",
    "mapping = {\n",
    "    'HCC': 1\n",
    "    }"
   ]
  },
  {
   "cell_type": "code",
   "execution_count": 6,
   "id": "40595215",
   "metadata": {},
   "outputs": [],
   "source": [
    "# transforms\n",
    "transforms = ComposeDouble([\n",
    "    Clip(),\n",
    "    # AlbumentationWrapper(albumentation=A.HorizontalFlip(p=0.5)),\n",
    "    # AlbumentationWrapper(albumentation=A.RandomScale(p=0.5, scale_limit=0.5)),\n",
    "    # AlbumentationWrapper(albumentation=A.VerticalFlip(p=0.5)),\n",
    "    FunctionWrapperDouble(np.moveaxis, source=-1, destination=0),\n",
    "    FunctionWrapperDouble(normalize_01)\n",
    "])"
   ]
  },
  {
   "cell_type": "code",
   "execution_count": 7,
   "id": "a8dd1670",
   "metadata": {},
   "outputs": [],
   "source": [
    "# dataset building\n",
    "dataset = ObjectDetectionDataSet(inputs=inputs,\n",
    "                                 targets=targets,\n",
    "                                 transform=transforms,\n",
    "                                 use_cache=False,\n",
    "                                 convert_to_format=None,\n",
    "                                 mapping=mapping)"
   ]
  },
  {
   "cell_type": "code",
   "execution_count": 8,
   "id": "522d34ca",
   "metadata": {},
   "outputs": [
    {
     "data": {
      "text/plain": [
       "{'image_height': tensor([256., 256., 256., 256., 256., 256., 256., 256., 256., 256., 256., 256.,\n",
       "         256., 256., 256., 256., 256., 256., 256., 256., 256., 256., 256., 256.,\n",
       "         256., 256., 256., 256., 256., 256., 256., 256., 256., 256., 256., 256.,\n",
       "         256., 256., 256., 256., 256., 256., 256., 256., 256., 256., 256., 256.,\n",
       "         256., 256., 256., 256., 256., 256., 256., 256., 256., 256., 256.]),\n",
       " 'image_width': tensor([352., 352., 352., 352., 352., 352., 352., 352., 352., 352., 352., 352.,\n",
       "         352., 352., 352., 352., 352., 480., 480., 352., 352., 352., 352., 352.,\n",
       "         352., 352., 352., 352., 352., 352., 352., 352., 352., 352., 352., 352.,\n",
       "         352., 352., 352., 352., 352., 352., 352., 352., 352., 352., 352., 352.,\n",
       "         352., 352., 352., 352., 352., 352., 352., 352., 352., 352., 352.]),\n",
       " 'image_mean': tensor([-1.4860, -1.4725, -1.5240, -1.2531, -1.3760, -1.3992, -1.3982, -1.3712,\n",
       "         -1.3231, -1.4323, -1.2957, -1.2644, -1.3703, -1.3348, -1.3925, -1.5553,\n",
       "         -1.6439, -1.5428, -1.4786, -1.4303, -1.3751, -1.3301, -1.4595, -1.4716,\n",
       "         -1.3573, -1.3629, -1.5011, -1.2035, -1.2473, -1.4851, -1.5125, -1.4257,\n",
       "         -1.3565, -1.4221, -1.3442, -1.4718, -1.4390, -1.4834, -1.4523, -1.4039,\n",
       "         -1.3525, -1.3720, -1.3219, -1.3818, -1.4604, -1.2158, -1.4215, -1.3826,\n",
       "         -1.3489, -1.4383, -1.4379, -1.4403, -1.4034, -1.4187, -1.4657, -1.4005,\n",
       "         -1.5310, -1.4364, -1.3970]),\n",
       " 'image_std': tensor([0.7864, 0.7755, 0.7795, 0.9495, 0.8816, 0.8094, 0.8205, 0.8453, 0.8293,\n",
       "         0.8159, 0.8954, 0.8892, 0.8699, 0.8345, 0.8349, 0.6910, 0.6306, 0.8316,\n",
       "         0.9304, 0.8691, 0.8188, 0.8375, 0.7937, 0.8166, 0.8264, 0.9001, 0.8289,\n",
       "         0.9344, 0.9110, 0.8227, 0.7928, 0.8355, 0.8531, 0.8451, 0.8591, 0.7922,\n",
       "         0.8130, 0.7949, 0.7974, 0.8167, 0.8414, 0.8432, 0.8450, 0.8564, 0.7861,\n",
       "         0.8932, 0.8273, 0.8445, 0.8771, 0.8498, 0.8715, 0.7913, 0.8001, 0.8123,\n",
       "         0.7942, 0.7701, 0.7639, 0.8276, 0.8341]),\n",
       " 'boxes_height': tensor([47.9531, 22.0229, 30.5479, 19.8917, 26.9958, 98.0375, 77.0802, 25.5750,\n",
       "         23.7990, 34.1000, 32.6792, 26.6406, 34.4552, 35.8760, 27.3510, 34.4552,\n",
       "         24.5094, 35.9023, 17.7734, 28.7719, 41.9146, 47.9531, 45.8219, 29.1271,\n",
       "         32.3240, 45.8219, 44.4010, 25.5750, 36.2312, 35.8760, 33.3896, 39.0729,\n",
       "         43.6906, 48.3083, 50.7948, 32.6792, 47.9531, 51.1500, 49.7292, 42.2698,\n",
       "         42.6250, 40.4938, 66.0687, 58.9646, 18.4708, 27.3510, 33.0344, 26.6406,\n",
       "         34.8104, 34.1000, 29.8375, 39.0729, 39.0729, 29.8375, 26.9958, 38.7177,\n",
       "         57.5437, 29.1271, 25.9302]),\n",
       " 'boxes_width': tensor([ 46.9333,  37.6889,  27.0222,  19.5556,  20.9778, 103.1111,  99.2000,\n",
       "          19.5556,  24.1778,  20.2667,  20.9778,  26.3111,  35.2000,  27.7333,\n",
       "          25.9556,  34.4889,  33.4222,  30.2222,  15.2889,  22.7556,  27.7333,\n",
       "          25.6000,  21.6889,  29.5111,  23.8222,  35.5556,  28.0889,  17.0667,\n",
       "          17.7778,  28.0889,  31.6444,  51.9111,  46.9333,  39.4667,  24.5333,\n",
       "          37.6889,  45.8667,  52.2667,  41.9556,  30.5778,  39.4667,  44.0889,\n",
       "          53.6889,  47.6444,  20.6222,  22.4000,  24.8889,  25.9556,  21.3333,\n",
       "          20.9778,  34.4889,  26.3111,  29.5111,  22.4000,  20.9778,  35.5556,\n",
       "          56.5333,  18.8445,  24.8889]),\n",
       " 'boxes_num': tensor([1., 1., 1., 1., 1., 1., 1., 1., 1., 1., 1., 1., 1., 1., 1., 1., 1., 1.,\n",
       "         1., 1., 1., 1., 1., 1., 1., 1., 1., 1., 1., 1., 1., 1., 1., 1., 1., 1.,\n",
       "         1., 1., 1., 1., 1., 1., 1., 1., 1., 1., 1., 1., 1., 1., 1., 1., 1., 1.,\n",
       "         1., 1., 1., 1., 1.]),\n",
       " 'boxes_area': tensor([ 2250.6001,   830.0193,   825.4723,   388.9927,   566.3129, 10108.7559,\n",
       "          7646.3555,   500.1336,   575.4058,   691.0933,   685.5360,   700.9443,\n",
       "          1212.8235,   994.9625,   709.9114,  1188.3217,   819.1575,  1085.0483,\n",
       "           271.7359,   654.7202,  1162.4308,  1227.6003,   993.8256,   859.5728,\n",
       "           770.0282,  1629.2227,  1247.1761,   436.4801,   644.1114,  1007.7183,\n",
       "          1056.5951,  2028.3191,  2050.5471,  1906.5682,  1246.1661,  1231.6416,\n",
       "          2199.4497,  2673.4402,  2086.4141,  1292.5161,  1682.2673,  1785.3242,\n",
       "          3547.1582,  2809.3350,   380.9093,   612.6632,   822.1891,   691.4721,\n",
       "           742.6222,   715.3423,  1029.0626,  1028.0520,  1153.0852,   668.3601,\n",
       "           566.3120,  1376.6295,  3253.1401,   548.8838,   645.3745])}"
      ]
     },
     "execution_count": 8,
     "metadata": {},
     "output_type": "execute_result"
    }
   ],
   "source": [
    "transform = GeneralizedRCNNTransform(min_size=256,\n",
    "                                     max_size=1024,\n",
    "                                     image_mean=[0.485, 0.456, 0.406],\n",
    "                                     image_std=[0.229, 0.224, 0.225])\n",
    "\n",
    "stats_transform = stats_dataset(dataset, transform)\n",
    "stats_transform"
   ]
  },
  {
   "cell_type": "code",
   "execution_count": null,
   "id": "58c75458-835a-4f9e-86f9-939cefdf90ff",
   "metadata": {},
   "outputs": [],
   "source": []
  },
  {
   "cell_type": "code",
   "execution_count": null,
   "id": "47bd8981-8ce1-4d94-b156-670c23d788a6",
   "metadata": {},
   "outputs": [],
   "source": []
  },
  {
   "cell_type": "code",
   "execution_count": 9,
   "id": "e655223d-57bd-47e7-9da6-bd6a04ff4d26",
   "metadata": {},
   "outputs": [],
   "source": [
    "from itertools import chain\n",
    "\n",
    "import pytorch_lightning as pl\n",
    "import torch\n",
    "\n",
    "from utils import from_dict_to_boundingbox"
   ]
  },
  {
   "cell_type": "code",
   "execution_count": 10,
   "id": "76b12d81-d304-4061-904c-df3b394badc3",
   "metadata": {},
   "outputs": [],
   "source": [
    "class FasterRCNN_lightning(pl.LightningModule):\n",
    "    def __init__(self,\n",
    "                 model: torch.nn.Module,\n",
    "                 lr: float = 0.0001,\n",
    "                 iou_threshold: float = 0.5\n",
    "                 ):\n",
    "        super().__init__()\n",
    "\n",
    "        # Model\n",
    "        self.model = model\n",
    "\n",
    "        # Classes (background inclusive)\n",
    "        self.num_classes = self.model.num_classes\n",
    "\n",
    "        # Learning rate\n",
    "        self.lr = lr\n",
    "\n",
    "        # IoU threshold\n",
    "        self.iou_threshold = iou_threshold\n",
    "\n",
    "        # Transformation parameters\n",
    "        self.mean = model.image_mean\n",
    "        self.std = model.image_std\n",
    "        self.min_size = model.min_size\n",
    "        self.max_size = model.max_size\n",
    "\n",
    "        # Save hyperparameters\n",
    "        self.save_hyperparameters()\n",
    "\n",
    "    def forward(self, x):\n",
    "        self.model.eval()\n",
    "        return self.model(x)\n",
    "\n",
    "    def training_step(self, batch, batch_idx):\n",
    "        # Batch\n",
    "        x, y, x_name, y_name = batch  # tuple unpacking\n",
    "\n",
    "        loss_dict = self.model(x, y)\n",
    "        loss = sum(loss for loss in loss_dict.values())\n",
    "\n",
    "        self.log_dict(loss_dict)\n",
    "        return loss\n",
    "\n",
    "    def validation_step(self, batch, batch_idx):\n",
    "        # Batch\n",
    "        x, y, x_name, y_name = batch\n",
    "\n",
    "        # Inference\n",
    "        preds = self.model(x)\n",
    "\n",
    "        gt_boxes = [from_dict_to_BoundingBox(target, name=name, groundtruth=True) for target, name in zip(y, x_name)]\n",
    "        gt_boxes = list(chain(*gt_boxes))\n",
    "\n",
    "        pred_boxes = [from_dict_to_BoundingBox(pred, name=name, groundtruth=False) for pred, name in zip(preds, x_name)]\n",
    "        pred_boxes = list(chain(*pred_boxes))\n",
    "\n",
    "        return {'pred_boxes': pred_boxes, 'gt_boxes': gt_boxes}\n",
    "\n",
    "    def validation_epoch_end(self, outs):\n",
    "        gt_boxes = [out['gt_boxes'] for out in outs]\n",
    "        gt_boxes = list(chain(*gt_boxes))\n",
    "        pred_boxes = [out['pred_boxes'] for out in outs]\n",
    "        pred_boxes = list(chain(*pred_boxes))\n",
    "\n",
    "        from metrics.pascal_voc_evaluator import get_pascalvoc_metrics\n",
    "        from metrics.enumerators import MethodAveragePrecision\n",
    "        metric = get_pascalvoc_metrics(gt_boxes=gt_boxes,\n",
    "                                       det_boxes=pred_boxes,\n",
    "                                       iou_threshold=self.iou_threshold,\n",
    "                                       method=MethodAveragePrecision.EVERY_POINT_INTERPOLATION,\n",
    "                                       generate_table=True)\n",
    "\n",
    "        per_class, mAP = metric['per_class'], metric['mAP']\n",
    "        self.log('Validation_mAP', mAP)\n",
    "\n",
    "        for key, value in per_class.items():\n",
    "            self.log(f'Validation_AP_{key}', value['AP'])\n",
    "\n",
    "    def test_step(self, batch, batch_idx):\n",
    "        # Batch\n",
    "        x, y, x_name, y_name = batch\n",
    "\n",
    "        # Inference\n",
    "        preds = self.model(x)\n",
    "\n",
    "        gt_boxes = [from_dict_to_BoundingBox(target, name=name, groundtruth=True) for target, name in zip(y, x_name)]\n",
    "        gt_boxes = list(chain(*gt_boxes))\n",
    "\n",
    "        pred_boxes = [from_dict_to_BoundingBox(pred, name=name, groundtruth=False) for pred, name in zip(preds, x_name)]\n",
    "        pred_boxes = list(chain(*pred_boxes))\n",
    "\n",
    "        return {'pred_boxes': pred_boxes, 'gt_boxes': gt_boxes}\n",
    "\n",
    "    def test_epoch_end(self, outs):\n",
    "        gt_boxes = [out['gt_boxes'] for out in outs]\n",
    "        gt_boxes = list(chain(*gt_boxes))\n",
    "        pred_boxes = [out['pred_boxes'] for out in outs]\n",
    "        pred_boxes = list(chain(*pred_boxes))\n",
    "\n",
    "        from metrics.pascal_voc_evaluator import get_pascalvoc_metrics\n",
    "        from metrics.enumerators import MethodAveragePrecision\n",
    "        metric = get_pascalvoc_metrics(gt_boxes=gt_boxes,\n",
    "                                       det_boxes=pred_boxes,\n",
    "                                       iou_threshold=self.iou_threshold,\n",
    "                                       method=MethodAveragePrecision.EVERY_POINT_INTERPOLATION,\n",
    "                                       generate_table=True)\n",
    "\n",
    "        per_class, mAP = metric['per_class'], metric['mAP']\n",
    "        self.log('Test_mAP', mAP)\n",
    "\n",
    "        for key, value in per_class.items():\n",
    "            self.log(f'Test_AP_{key}', value['AP'])\n",
    "\n",
    "    def configure_optimizers(self):\n",
    "        optimizer = torch.optim.SGD(self.model.parameters(),\n",
    "                                    lr=self.lr,\n",
    "                                    momentum=0.9,\n",
    "                                    weight_decay=0.005)\n",
    "        lr_scheduler = torch.optim.lr_scheduler.ReduceLROnPlateau(optimizer,\n",
    "                                                                  mode='max',\n",
    "                                                                  factor=0.75,\n",
    "                                                                  patience=30,\n",
    "                                                                  min_lr=0)\n",
    "        return {'optimizer': optimizer, 'lr_scheduler': lr_scheduler, 'monitor': 'Validation_mAP'}"
   ]
  },
  {
   "cell_type": "code",
   "execution_count": null,
   "id": "a9f4c6fe-c0ed-4cb4-a6e2-7fd7eb85cc86",
   "metadata": {},
   "outputs": [],
   "source": []
  },
  {
   "cell_type": "code",
   "execution_count": null,
   "id": "3df58e7a-ab66-4a3a-afae-2f2261f0bf01",
   "metadata": {},
   "outputs": [],
   "source": []
  },
  {
   "cell_type": "code",
   "execution_count": 11,
   "id": "00a3e4af-d935-4eb9-adc9-d52e8962d8b6",
   "metadata": {},
   "outputs": [],
   "source": [
    "# imports\n",
    "import os\n",
    "import pathlib\n",
    "from dataclasses import dataclass, field\n",
    "from typing import List, Optional, Tuple\n",
    "\n",
    "import albumentations as albu\n",
    "import numpy as np\n",
    "from pytorch_lightning import Trainer, seed_everything\n",
    "from pytorch_lightning.callbacks import (\n",
    "    EarlyStopping,\n",
    "    LearningRateMonitor,\n",
    "    ModelCheckpoint,\n",
    ")"
   ]
  },
  {
   "cell_type": "code",
   "execution_count": 12,
   "id": "41ff662d-8770-4cd3-b697-11c3b642d499",
   "metadata": {},
   "outputs": [],
   "source": [
    "from pytorch_lightning.loggers.neptune import NeptuneLogger\n",
    "from torch.utils.data import DataLoader\n",
    "\n",
    "from pytorch_faster_rcnn.backbone_resnet import ResNetBackbones\n",
    "from pytorch_faster_rcnn.datasets import ObjectDetectionDataSet\n",
    "from pytorch_faster_rcnn.faster_RCNN import (\n",
    "    FasterRCNNLightning,\n",
    "    get_faster_rcnn_resnet,\n",
    ")"
   ]
  },
  {
   "cell_type": "code",
   "execution_count": 13,
   "id": "43c81633-aa21-40e5-8411-4c97c91a92a2",
   "metadata": {},
   "outputs": [],
   "source": [
    "from pytorch_faster_rcnn.transformations import (\n",
    "    AlbumentationWrapper,\n",
    "    Clip,\n",
    "    ComposeDouble,\n",
    "    FunctionWrapperDouble,\n",
    "    normalize_01,\n",
    ")"
   ]
  },
  {
   "cell_type": "code",
   "execution_count": 14,
   "id": "9cffca3b-9bca-4c43-9222-b30d2d08ef31",
   "metadata": {},
   "outputs": [],
   "source": [
    "from pytorch_faster_rcnn.utils import (\n",
    "    collate_double,\n",
    "    get_filenames_of_path,\n",
    "    log_mapping_neptune,\n",
    "    log_model_neptune,\n",
    "    log_packages_neptune,\n",
    ")"
   ]
  },
  {
   "cell_type": "code",
   "execution_count": 15,
   "id": "17dc978e-a7f3-4c55-b673-b2ccc5aa6037",
   "metadata": {},
   "outputs": [],
   "source": [
    "# hyper-parameters\n",
    "@dataclass\n",
    "class Params:\n",
    "    BATCH_SIZE: int = 2\n",
    "    OWNER: str = \"bdwumah\"  # set your name here, e.g. johndoe22\n",
    "    SAVE_DIR: Optional[\n",
    "        str\n",
    "    ] = None  # checkpoints will be saved to cwd (current working directory)\n",
    "    LOG_MODEL: bool = False  # whether to log the model to neptune after training\n",
    "    GPU: Optional[int] = None  # set to None for cpu training\n",
    "    LR: float = 0.001\n",
    "    PRECISION: int = 32\n",
    "    CLASSES: int = 2\n",
    "    SEED: int = 42\n",
    "    PROJECT: str = \"bdwumah/Individual-Project-1\"\n",
    "    EXPERIMENT: str = \"Resnet-34\"\n",
    "    MAXEPOCHS: int = 150\n",
    "    PATIENCE: int = 50\n",
    "    BACKBONE: ResNetBackbones = ResNetBackbones.RESNET34\n",
    "    FPN: bool = False\n",
    "    ANCHOR_SIZE: Tuple[Tuple[int, ...], ...] = ((32, 64, 128, 256, 512),)\n",
    "    ASPECT_RATIOS: Tuple[Tuple[float, ...]] = ((0.5, 1.0, 2.0),)\n",
    "    MIN_SIZE: int = 1024\n",
    "    MAX_SIZE: int = 1024\n",
    "    IMG_MEAN: List = field(default_factory=lambda: [0.485, 0.456, 0.406])\n",
    "    IMG_STD: List = field(default_factory=lambda: [0.229, 0.224, 0.225])\n",
    "    IOU_THRESHOLD: float = 0.5"
   ]
  },
  {
   "cell_type": "code",
   "execution_count": 16,
   "id": "5e339898-4d29-418e-8bcb-01d9be17da2b",
   "metadata": {},
   "outputs": [],
   "source": [
    "# root directory\n",
    "ROOT_PATH = pathlib.Path.cwd()"
   ]
  },
  {
   "cell_type": "code",
   "execution_count": 17,
   "id": "dc641b95-b558-4dd5-9432-29651051a202",
   "metadata": {},
   "outputs": [],
   "source": [
    "params = Params()"
   ]
  },
  {
   "cell_type": "code",
   "execution_count": 18,
   "id": "0ccf2d03-08d8-4691-9572-775e7efe240e",
   "metadata": {},
   "outputs": [],
   "source": [
    "# save directory\n",
    "save_dir = os.getcwd() if not params.SAVE_DIR else params.SAVE_DIR"
   ]
  },
  {
   "cell_type": "code",
   "execution_count": 19,
   "id": "51aeeaaa-c2e2-4614-aa58-53da41e0beb2",
   "metadata": {},
   "outputs": [],
   "source": [
    "# root directory\n",
    "root = ROOT_PATH / \"Dataset\""
   ]
  },
  {
   "cell_type": "code",
   "execution_count": 20,
   "id": "03cb815a-5b5f-437a-84fc-f17e4f066787",
   "metadata": {},
   "outputs": [],
   "source": [
    "# input and target files\n",
    "inputs = get_filenames_of_path(root / 'input')\n",
    "targets = get_filenames_of_path(root / 'target')\n",
    "\n",
    "inputs.sort()\n",
    "targets.sort()"
   ]
  },
  {
   "cell_type": "code",
   "execution_count": 21,
   "id": "466b0b10-c496-4a68-b79e-1fe75645b8a2",
   "metadata": {},
   "outputs": [],
   "source": [
    "# training transformations and augmentations\n",
    "transforms_training = ComposeDouble(\n",
    "    [\n",
    "        Clip(),\n",
    "        AlbumentationWrapper(albumentation=albu.HorizontalFlip(p=0.5)),\n",
    "        AlbumentationWrapper(\n",
    "            albumentation=albu.RandomScale(p=0.5, scale_limit=0.5)\n",
    "        ),\n",
    "        # AlbuWrapper(albu=A.VerticalFlip(p=0.5)),\n",
    "        FunctionWrapperDouble(np.moveaxis, source=-1, destination=0),\n",
    "        FunctionWrapperDouble(normalize_01),\n",
    "    ]\n",
    ")"
   ]
  },
  {
   "cell_type": "code",
   "execution_count": 22,
   "id": "8c473262-df7a-4596-8325-d122dc6c0e1d",
   "metadata": {},
   "outputs": [],
   "source": [
    "# validation transformations\n",
    "transforms_validation = ComposeDouble([\n",
    "    Clip(),\n",
    "    FunctionWrapperDouble(np.moveaxis, source=-1, destination=0),\n",
    "    FunctionWrapperDouble(normalize_01)\n",
    "])"
   ]
  },
  {
   "cell_type": "code",
   "execution_count": 23,
   "id": "c3df3f7d-7a0f-4832-83e0-0cbdff0dbe75",
   "metadata": {},
   "outputs": [],
   "source": [
    "# test transformations\n",
    "transforms_test = ComposeDouble([\n",
    "    Clip(),\n",
    "    FunctionWrapperDouble(np.moveaxis, source=-1, destination=0),\n",
    "    FunctionWrapperDouble(normalize_01)\n",
    "])"
   ]
  },
  {
   "cell_type": "code",
   "execution_count": 24,
   "id": "f2fbcdb1-bca5-426e-8c66-618569d3a36b",
   "metadata": {},
   "outputs": [
    {
     "name": "stderr",
     "output_type": "stream",
     "text": [
      "Global seed set to 42\n"
     ]
    },
    {
     "data": {
      "text/plain": [
       "42"
      ]
     },
     "execution_count": 24,
     "metadata": {},
     "output_type": "execute_result"
    }
   ],
   "source": [
    "# random seed\n",
    "seed_everything(params.SEED)"
   ]
  },
  {
   "cell_type": "code",
   "execution_count": 25,
   "id": "5a9b86f1-ba12-47a5-9c4a-01a3576e8ed1",
   "metadata": {},
   "outputs": [],
   "source": [
    "# training validation test split\n",
    "inputs_train, inputs_valid, inputs_test = inputs[:25], inputs[25:50], inputs[50:]\n",
    "targets_train, targets_valid, targets_test = targets[:25], targets[25:50], targets[50:]"
   ]
  },
  {
   "cell_type": "code",
   "execution_count": 26,
   "id": "02aa95fe-271e-4ef6-90e5-8f8e4cfabbd9",
   "metadata": {},
   "outputs": [],
   "source": [
    "# dataset training\n",
    "dataset_train = ObjectDetectionDataSet(inputs=inputs_train,\n",
    "                                       targets=targets_train,\n",
    "                                       transform=transforms_training,\n",
    "                                       use_cache=True,\n",
    "                                       convert_to_format=None,\n",
    "                                       mapping=mapping)"
   ]
  },
  {
   "cell_type": "code",
   "execution_count": 27,
   "id": "10b8bba4-fe75-4131-8fbc-9794f1dc5f9c",
   "metadata": {},
   "outputs": [],
   "source": [
    "# dataset validation\n",
    "dataset_valid = ObjectDetectionDataSet(inputs=inputs_valid,\n",
    "                                       targets=targets_valid,\n",
    "                                       transform=transforms_validation,\n",
    "                                       use_cache=True,\n",
    "                                       convert_to_format=None,\n",
    "                                       mapping=mapping)"
   ]
  },
  {
   "cell_type": "code",
   "execution_count": 28,
   "id": "1153065b-314b-4728-a122-6932bc952f67",
   "metadata": {},
   "outputs": [],
   "source": [
    "# dataset test\n",
    "dataset_test = ObjectDetectionDataSet(inputs=inputs_test,\n",
    "                                      targets=targets_test,\n",
    "                                      transform=transforms_test,\n",
    "                                      use_cache=True,\n",
    "                                      convert_to_format=None,\n",
    "                                      mapping=mapping)"
   ]
  },
  {
   "cell_type": "code",
   "execution_count": 29,
   "id": "b8ab2f67-34bb-4e43-a7e3-cf1acbb07324",
   "metadata": {},
   "outputs": [],
   "source": [
    "# dataloader training\n",
    "dataloader_train = DataLoader(\n",
    "    dataset=dataset_train,\n",
    "    batch_size=params.BATCH_SIZE,\n",
    "    shuffle=True,\n",
    "    num_workers=0,\n",
    "    collate_fn=collate_double,\n",
    ")"
   ]
  },
  {
   "cell_type": "code",
   "execution_count": 30,
   "id": "341a03ff-2bdc-4289-a459-898348c8acff",
   "metadata": {},
   "outputs": [],
   "source": [
    "# dataloader validation\n",
    "dataloader_valid = DataLoader(dataset=dataset_valid,\n",
    "                              batch_size=1,\n",
    "                              shuffle=False,\n",
    "                              num_workers=0,\n",
    "                              collate_fn=collate_double)"
   ]
  },
  {
   "cell_type": "code",
   "execution_count": 31,
   "id": "5c078da2-bbca-4596-a3b3-42b364703848",
   "metadata": {},
   "outputs": [],
   "source": [
    "# dataloader test\n",
    "dataloader_test = DataLoader(dataset=dataset_test,\n",
    "                             batch_size=1,\n",
    "                             shuffle=False,\n",
    "                             num_workers=0,\n",
    "                             collate_fn=collate_double)"
   ]
  },
  {
   "cell_type": "code",
   "execution_count": 32,
   "id": "e79f7aff-647b-4089-963e-c3964a885055",
   "metadata": {},
   "outputs": [],
   "source": [
    "api_key=\"eyJhcGlfYWRkcmVzcyI6Imh0dHBzOi8vYXBwLm5lcHR1bmUuYWkiLCJhcGlfdXJsIjoiaHR0cHM6Ly9hcHAubmVwdHVuZS5haSIsImFwaV9rZXkiOiI4MjEwNWM2NC1jNmM5LTQyYTctOGRlNy1hN2M0YTk2MmY0N2QifQ==\","
   ]
  },
  {
   "cell_type": "code",
   "execution_count": 33,
   "id": "692a92bf-0c0b-400c-b99b-2b679fe5b08f",
   "metadata": {},
   "outputs": [
    {
     "name": "stdout",
     "output_type": "stream",
     "text": [
      "https://app.neptune.ai/bdwumah/Individual-Project-1/e/IN-10\n"
     ]
    },
    {
     "name": "stderr",
     "output_type": "stream",
     "text": [
      "Info (NVML): Driver Not Loaded. GPU usage metrics may not be reported. For more information, see https://docs.neptune.ai/you-should-know/what-can-you-log-and-display#hardware-consumption\n"
     ]
    },
    {
     "name": "stdout",
     "output_type": "stream",
     "text": [
      "Remember to stop your run once you’ve finished logging your metadata (https://docs.neptune.ai/api-reference/run#.stop). It will be stopped automatically only when the notebook kernel/interactive console is terminated.\n"
     ]
    }
   ],
   "source": [
    "#from neptunecontrib.monitoring.pytorch_lightning import NeptuneLogger\n",
    "\n",
    "neptune_logger = NeptuneLogger(\n",
    "    project=\"bdwumah/Individual-Project-1\",\n",
    "    api_key=\"eyJhcGlfYWRkcmVzcyI6Imh0dHBzOi8vYXBwLm5lcHR1bmUuYWkiLCJhcGlfdXJsIjoiaHR0cHM6Ly9hcHAubmVwdHVuZS5haSIsImFwaV9rZXkiOiI4MjEwNWM2NC1jNmM5LTQyYTctOGRlNy1hN2M0YTk2MmY0N2QifQ==\",\n",
    "    log_model_checkpoints=True,\n",
    ")\n",
    "\n",
    "neptune_logger.log_hyperparams(params=params.__dict__)\n",
    "\n",
    "assert neptune_logger.name  # http GET request to check if the project exists"
   ]
  },
  {
   "cell_type": "code",
   "execution_count": null,
   "id": "0d5e740f-062a-438d-8d68-7e39e3fe5eea",
   "metadata": {},
   "outputs": [],
   "source": []
  },
  {
   "cell_type": "code",
   "execution_count": 34,
   "id": "a49eded0-2c6e-4f00-b60a-3fe3b81a6250",
   "metadata": {},
   "outputs": [],
   "source": [
    "# model init\n",
    "model = get_faster_rcnn_resnet(\n",
    "    num_classes=params.CLASSES,\n",
    "    backbone_name=params.BACKBONE,\n",
    "    anchor_size=params.ANCHOR_SIZE,\n",
    "    aspect_ratios=params.ASPECT_RATIOS,\n",
    "    fpn=params.FPN,\n",
    "    min_size=params.MIN_SIZE,\n",
    "    max_size=params.MAX_SIZE,\n",
    ")"
   ]
  },
  {
   "cell_type": "code",
   "execution_count": 35,
   "id": "b0c5bc92-7911-4d61-a5da-49dffef69429",
   "metadata": {},
   "outputs": [],
   "source": [
    "# lightning init\n",
    "task = FasterRCNNLightning(\n",
    "    model=model, lr=params.LR, iou_threshold=params.IOU_THRESHOLD\n",
    ")"
   ]
  },
  {
   "cell_type": "code",
   "execution_count": 36,
   "id": "99d64c49-49f2-4aa8-b5c6-8461b82b3a4c",
   "metadata": {},
   "outputs": [],
   "source": [
    "# callbacks\n",
    "checkpoint_callback = ModelCheckpoint(monitor=\"Validation_mAP\", mode=\"max\")\n",
    "learningrate_callback = LearningRateMonitor(\n",
    "    logging_interval=\"step\", log_momentum=False\n",
    ")\n",
    "early_stopping_callback = EarlyStopping(\n",
    "    monitor=\"Validation_mAP\", patience=params.PATIENCE, mode=\"max\"\n",
    ")"
   ]
  },
  {
   "cell_type": "code",
   "execution_count": 37,
   "id": "2f192128-1671-4e65-916b-4355ee8e9e6f",
   "metadata": {},
   "outputs": [
    {
     "name": "stderr",
     "output_type": "stream",
     "text": [
      "GPU available: False, used: False\n",
      "TPU available: False, using: 0 TPU cores\n",
      "IPU available: False, using: 0 IPUs\n"
     ]
    }
   ],
   "source": [
    "# trainer init\n",
    "trainer = Trainer(\n",
    "    gpus=params.GPU,\n",
    "    precision=params.PRECISION,  # try 16 with enable_pl_optimizer=False\n",
    "    callbacks=[checkpoint_callback, learningrate_callback, early_stopping_callback],\n",
    "    default_root_dir=save_dir,  # where checkpoints are saved to\n",
    "    logger=neptune_logger,\n",
    "    log_every_n_steps=1,\n",
    "    num_sanity_val_steps=0,\n",
    "    max_epochs=params.MAXEPOCHS,\n",
    ")"
   ]
  },
  {
   "cell_type": "code",
   "execution_count": 38,
   "id": "722233a9-aefe-40ca-8407-cc04e48ae080",
   "metadata": {},
   "outputs": [
    {
     "name": "stderr",
     "output_type": "stream",
     "text": [
      "\n",
      "  | Name  | Type       | Params\n",
      "-------------------------------------\n",
      "0 | model | FasterRCNN | 50.4 M\n",
      "-------------------------------------\n",
      "50.4 M    Trainable params\n",
      "0         Non-trainable params\n",
      "50.4 M    Total params\n",
      "201.736   Total estimated model params size (MB)\n"
     ]
    },
    {
     "data": {
      "application/vnd.jupyter.widget-view+json": {
       "model_id": "2fde4f778a3542a6a258839fdaf01b36",
       "version_major": 2,
       "version_minor": 0
      },
      "text/plain": [
       "Training: 0it [00:00, ?it/s]"
      ]
     },
     "metadata": {},
     "output_type": "display_data"
    },
    {
     "data": {
      "application/vnd.jupyter.widget-view+json": {
       "model_id": "",
       "version_major": 2,
       "version_minor": 0
      },
      "text/plain": [
       "Validating: 0it [00:00, ?it/s]"
      ]
     },
     "metadata": {},
     "output_type": "display_data"
    },
    {
     "data": {
      "application/vnd.jupyter.widget-view+json": {
       "model_id": "",
       "version_major": 2,
       "version_minor": 0
      },
      "text/plain": [
       "Validating: 0it [00:00, ?it/s]"
      ]
     },
     "metadata": {},
     "output_type": "display_data"
    },
    {
     "data": {
      "application/vnd.jupyter.widget-view+json": {
       "model_id": "",
       "version_major": 2,
       "version_minor": 0
      },
      "text/plain": [
       "Validating: 0it [00:00, ?it/s]"
      ]
     },
     "metadata": {},
     "output_type": "display_data"
    },
    {
     "data": {
      "application/vnd.jupyter.widget-view+json": {
       "model_id": "",
       "version_major": 2,
       "version_minor": 0
      },
      "text/plain": [
       "Validating: 0it [00:00, ?it/s]"
      ]
     },
     "metadata": {},
     "output_type": "display_data"
    },
    {
     "data": {
      "application/vnd.jupyter.widget-view+json": {
       "model_id": "",
       "version_major": 2,
       "version_minor": 0
      },
      "text/plain": [
       "Validating: 0it [00:00, ?it/s]"
      ]
     },
     "metadata": {},
     "output_type": "display_data"
    },
    {
     "data": {
      "application/vnd.jupyter.widget-view+json": {
       "model_id": "",
       "version_major": 2,
       "version_minor": 0
      },
      "text/plain": [
       "Validating: 0it [00:00, ?it/s]"
      ]
     },
     "metadata": {},
     "output_type": "display_data"
    },
    {
     "data": {
      "application/vnd.jupyter.widget-view+json": {
       "model_id": "",
       "version_major": 2,
       "version_minor": 0
      },
      "text/plain": [
       "Validating: 0it [00:00, ?it/s]"
      ]
     },
     "metadata": {},
     "output_type": "display_data"
    },
    {
     "data": {
      "application/vnd.jupyter.widget-view+json": {
       "model_id": "",
       "version_major": 2,
       "version_minor": 0
      },
      "text/plain": [
       "Validating: 0it [00:00, ?it/s]"
      ]
     },
     "metadata": {},
     "output_type": "display_data"
    },
    {
     "data": {
      "application/vnd.jupyter.widget-view+json": {
       "model_id": "",
       "version_major": 2,
       "version_minor": 0
      },
      "text/plain": [
       "Validating: 0it [00:00, ?it/s]"
      ]
     },
     "metadata": {},
     "output_type": "display_data"
    },
    {
     "name": "stderr",
     "output_type": "stream",
     "text": [
      "Error occurred during asynchronous operation processing: Cannot upload file /home/bdwumah74/Indiv_Proj/.neptune/Untitled/IN-10/checkpoints/epoch=0-step=12.ckpt: Path not found or is a not a file.\n"
     ]
    },
    {
     "data": {
      "application/vnd.jupyter.widget-view+json": {
       "model_id": "",
       "version_major": 2,
       "version_minor": 0
      },
      "text/plain": [
       "Validating: 0it [00:00, ?it/s]"
      ]
     },
     "metadata": {},
     "output_type": "display_data"
    },
    {
     "data": {
      "application/vnd.jupyter.widget-view+json": {
       "model_id": "",
       "version_major": 2,
       "version_minor": 0
      },
      "text/plain": [
       "Validating: 0it [00:00, ?it/s]"
      ]
     },
     "metadata": {},
     "output_type": "display_data"
    },
    {
     "data": {
      "application/vnd.jupyter.widget-view+json": {
       "model_id": "",
       "version_major": 2,
       "version_minor": 0
      },
      "text/plain": [
       "Validating: 0it [00:00, ?it/s]"
      ]
     },
     "metadata": {},
     "output_type": "display_data"
    },
    {
     "data": {
      "application/vnd.jupyter.widget-view+json": {
       "model_id": "",
       "version_major": 2,
       "version_minor": 0
      },
      "text/plain": [
       "Validating: 0it [00:00, ?it/s]"
      ]
     },
     "metadata": {},
     "output_type": "display_data"
    },
    {
     "name": "stderr",
     "output_type": "stream",
     "text": [
      "Error occurred during asynchronous operation processing: Cannot upload file /home/bdwumah74/Indiv_Proj/.neptune/Untitled/IN-10/checkpoints/epoch=4-step=64.ckpt: Path not found or is a not a file.\n",
      "Error occurred during asynchronous operation processing: Cannot upload file /home/bdwumah74/Indiv_Proj/.neptune/Untitled/IN-10/checkpoints/epoch=5-step=77.ckpt: Path not found or is a not a file.\n",
      "Error occurred during asynchronous operation processing: Cannot delete training/model/checkpoints/epoch=5-step=77: Attribute does not exist\n",
      "Error occurred during asynchronous operation processing: Cannot delete training/model/checkpoints/epoch=4-step=64: Attribute does not exist\n"
     ]
    },
    {
     "data": {
      "application/vnd.jupyter.widget-view+json": {
       "model_id": "",
       "version_major": 2,
       "version_minor": 0
      },
      "text/plain": [
       "Validating: 0it [00:00, ?it/s]"
      ]
     },
     "metadata": {},
     "output_type": "display_data"
    },
    {
     "data": {
      "application/vnd.jupyter.widget-view+json": {
       "model_id": "",
       "version_major": 2,
       "version_minor": 0
      },
      "text/plain": [
       "Validating: 0it [00:00, ?it/s]"
      ]
     },
     "metadata": {},
     "output_type": "display_data"
    },
    {
     "data": {
      "application/vnd.jupyter.widget-view+json": {
       "model_id": "",
       "version_major": 2,
       "version_minor": 0
      },
      "text/plain": [
       "Validating: 0it [00:00, ?it/s]"
      ]
     },
     "metadata": {},
     "output_type": "display_data"
    },
    {
     "data": {
      "application/vnd.jupyter.widget-view+json": {
       "model_id": "",
       "version_major": 2,
       "version_minor": 0
      },
      "text/plain": [
       "Validating: 0it [00:00, ?it/s]"
      ]
     },
     "metadata": {},
     "output_type": "display_data"
    },
    {
     "data": {
      "application/vnd.jupyter.widget-view+json": {
       "model_id": "",
       "version_major": 2,
       "version_minor": 0
      },
      "text/plain": [
       "Validating: 0it [00:00, ?it/s]"
      ]
     },
     "metadata": {},
     "output_type": "display_data"
    },
    {
     "data": {
      "application/vnd.jupyter.widget-view+json": {
       "model_id": "",
       "version_major": 2,
       "version_minor": 0
      },
      "text/plain": [
       "Validating: 0it [00:00, ?it/s]"
      ]
     },
     "metadata": {},
     "output_type": "display_data"
    },
    {
     "data": {
      "application/vnd.jupyter.widget-view+json": {
       "model_id": "",
       "version_major": 2,
       "version_minor": 0
      },
      "text/plain": [
       "Validating: 0it [00:00, ?it/s]"
      ]
     },
     "metadata": {},
     "output_type": "display_data"
    },
    {
     "data": {
      "application/vnd.jupyter.widget-view+json": {
       "model_id": "",
       "version_major": 2,
       "version_minor": 0
      },
      "text/plain": [
       "Validating: 0it [00:00, ?it/s]"
      ]
     },
     "metadata": {},
     "output_type": "display_data"
    },
    {
     "name": "stderr",
     "output_type": "stream",
     "text": [
      "Error occurred during asynchronous operation processing: Cannot upload file /home/bdwumah74/Indiv_Proj/.neptune/Untitled/IN-10/checkpoints/epoch=6-step=90.ckpt: Path not found or is a not a file.\n"
     ]
    },
    {
     "data": {
      "application/vnd.jupyter.widget-view+json": {
       "model_id": "",
       "version_major": 2,
       "version_minor": 0
      },
      "text/plain": [
       "Validating: 0it [00:00, ?it/s]"
      ]
     },
     "metadata": {},
     "output_type": "display_data"
    },
    {
     "data": {
      "application/vnd.jupyter.widget-view+json": {
       "model_id": "",
       "version_major": 2,
       "version_minor": 0
      },
      "text/plain": [
       "Validating: 0it [00:00, ?it/s]"
      ]
     },
     "metadata": {},
     "output_type": "display_data"
    },
    {
     "data": {
      "application/vnd.jupyter.widget-view+json": {
       "model_id": "",
       "version_major": 2,
       "version_minor": 0
      },
      "text/plain": [
       "Validating: 0it [00:00, ?it/s]"
      ]
     },
     "metadata": {},
     "output_type": "display_data"
    },
    {
     "data": {
      "application/vnd.jupyter.widget-view+json": {
       "model_id": "",
       "version_major": 2,
       "version_minor": 0
      },
      "text/plain": [
       "Validating: 0it [00:00, ?it/s]"
      ]
     },
     "metadata": {},
     "output_type": "display_data"
    },
    {
     "name": "stderr",
     "output_type": "stream",
     "text": [
      "Error occurred during asynchronous operation processing: Cannot upload file /home/bdwumah74/Indiv_Proj/.neptune/Untitled/IN-10/checkpoints/epoch=15-step=207.ckpt: Path not found or is a not a file.\n"
     ]
    },
    {
     "data": {
      "application/vnd.jupyter.widget-view+json": {
       "model_id": "",
       "version_major": 2,
       "version_minor": 0
      },
      "text/plain": [
       "Validating: 0it [00:00, ?it/s]"
      ]
     },
     "metadata": {},
     "output_type": "display_data"
    },
    {
     "data": {
      "application/vnd.jupyter.widget-view+json": {
       "model_id": "",
       "version_major": 2,
       "version_minor": 0
      },
      "text/plain": [
       "Validating: 0it [00:00, ?it/s]"
      ]
     },
     "metadata": {},
     "output_type": "display_data"
    },
    {
     "data": {
      "application/vnd.jupyter.widget-view+json": {
       "model_id": "",
       "version_major": 2,
       "version_minor": 0
      },
      "text/plain": [
       "Validating: 0it [00:00, ?it/s]"
      ]
     },
     "metadata": {},
     "output_type": "display_data"
    },
    {
     "data": {
      "application/vnd.jupyter.widget-view+json": {
       "model_id": "",
       "version_major": 2,
       "version_minor": 0
      },
      "text/plain": [
       "Validating: 0it [00:00, ?it/s]"
      ]
     },
     "metadata": {},
     "output_type": "display_data"
    },
    {
     "data": {
      "application/vnd.jupyter.widget-view+json": {
       "model_id": "",
       "version_major": 2,
       "version_minor": 0
      },
      "text/plain": [
       "Validating: 0it [00:00, ?it/s]"
      ]
     },
     "metadata": {},
     "output_type": "display_data"
    },
    {
     "data": {
      "application/vnd.jupyter.widget-view+json": {
       "model_id": "",
       "version_major": 2,
       "version_minor": 0
      },
      "text/plain": [
       "Validating: 0it [00:00, ?it/s]"
      ]
     },
     "metadata": {},
     "output_type": "display_data"
    },
    {
     "data": {
      "application/vnd.jupyter.widget-view+json": {
       "model_id": "",
       "version_major": 2,
       "version_minor": 0
      },
      "text/plain": [
       "Validating: 0it [00:00, ?it/s]"
      ]
     },
     "metadata": {},
     "output_type": "display_data"
    },
    {
     "data": {
      "application/vnd.jupyter.widget-view+json": {
       "model_id": "",
       "version_major": 2,
       "version_minor": 0
      },
      "text/plain": [
       "Validating: 0it [00:00, ?it/s]"
      ]
     },
     "metadata": {},
     "output_type": "display_data"
    },
    {
     "data": {
      "application/vnd.jupyter.widget-view+json": {
       "model_id": "",
       "version_major": 2,
       "version_minor": 0
      },
      "text/plain": [
       "Validating: 0it [00:00, ?it/s]"
      ]
     },
     "metadata": {},
     "output_type": "display_data"
    },
    {
     "name": "stderr",
     "output_type": "stream",
     "text": [
      "Error occurred during asynchronous operation processing: Cannot upload file /home/bdwumah74/Indiv_Proj/.neptune/Untitled/IN-10/checkpoints/epoch=25-step=337.ckpt: Path not found or is a not a file.\n",
      "Error occurred during asynchronous operation processing: Cannot delete training/model/checkpoints/epoch=25-step=337: Attribute does not exist\n"
     ]
    },
    {
     "data": {
      "application/vnd.jupyter.widget-view+json": {
       "model_id": "",
       "version_major": 2,
       "version_minor": 0
      },
      "text/plain": [
       "Validating: 0it [00:00, ?it/s]"
      ]
     },
     "metadata": {},
     "output_type": "display_data"
    },
    {
     "data": {
      "application/vnd.jupyter.widget-view+json": {
       "model_id": "",
       "version_major": 2,
       "version_minor": 0
      },
      "text/plain": [
       "Validating: 0it [00:00, ?it/s]"
      ]
     },
     "metadata": {},
     "output_type": "display_data"
    },
    {
     "data": {
      "application/vnd.jupyter.widget-view+json": {
       "model_id": "",
       "version_major": 2,
       "version_minor": 0
      },
      "text/plain": [
       "Validating: 0it [00:00, ?it/s]"
      ]
     },
     "metadata": {},
     "output_type": "display_data"
    },
    {
     "data": {
      "application/vnd.jupyter.widget-view+json": {
       "model_id": "",
       "version_major": 2,
       "version_minor": 0
      },
      "text/plain": [
       "Validating: 0it [00:00, ?it/s]"
      ]
     },
     "metadata": {},
     "output_type": "display_data"
    },
    {
     "data": {
      "application/vnd.jupyter.widget-view+json": {
       "model_id": "",
       "version_major": 2,
       "version_minor": 0
      },
      "text/plain": [
       "Validating: 0it [00:00, ?it/s]"
      ]
     },
     "metadata": {},
     "output_type": "display_data"
    },
    {
     "name": "stderr",
     "output_type": "stream",
     "text": [
      "Error occurred during asynchronous operation processing: Cannot upload file /home/bdwumah74/Indiv_Proj/.neptune/Untitled/IN-10/checkpoints/epoch=28-step=376.ckpt: Path not found or is a not a file.\n"
     ]
    },
    {
     "data": {
      "application/vnd.jupyter.widget-view+json": {
       "model_id": "",
       "version_major": 2,
       "version_minor": 0
      },
      "text/plain": [
       "Validating: 0it [00:00, ?it/s]"
      ]
     },
     "metadata": {},
     "output_type": "display_data"
    },
    {
     "data": {
      "application/vnd.jupyter.widget-view+json": {
       "model_id": "",
       "version_major": 2,
       "version_minor": 0
      },
      "text/plain": [
       "Validating: 0it [00:00, ?it/s]"
      ]
     },
     "metadata": {},
     "output_type": "display_data"
    },
    {
     "data": {
      "application/vnd.jupyter.widget-view+json": {
       "model_id": "",
       "version_major": 2,
       "version_minor": 0
      },
      "text/plain": [
       "Validating: 0it [00:00, ?it/s]"
      ]
     },
     "metadata": {},
     "output_type": "display_data"
    },
    {
     "data": {
      "application/vnd.jupyter.widget-view+json": {
       "model_id": "",
       "version_major": 2,
       "version_minor": 0
      },
      "text/plain": [
       "Validating: 0it [00:00, ?it/s]"
      ]
     },
     "metadata": {},
     "output_type": "display_data"
    },
    {
     "name": "stderr",
     "output_type": "stream",
     "text": [
      "Error occurred during asynchronous operation processing: Cannot upload file /home/bdwumah74/Indiv_Proj/.neptune/Untitled/IN-10/checkpoints/epoch=30-step=402.ckpt: Path not found or is a not a file.\n",
      "Error occurred during asynchronous operation processing: Cannot upload file /home/bdwumah74/Indiv_Proj/.neptune/Untitled/IN-10/checkpoints/epoch=36-step=480.ckpt: Path not found or is a not a file.\n",
      "Error occurred during asynchronous operation processing: Cannot delete training/model/checkpoints/epoch=36-step=480: Attribute does not exist\n"
     ]
    },
    {
     "data": {
      "application/vnd.jupyter.widget-view+json": {
       "model_id": "",
       "version_major": 2,
       "version_minor": 0
      },
      "text/plain": [
       "Validating: 0it [00:00, ?it/s]"
      ]
     },
     "metadata": {},
     "output_type": "display_data"
    },
    {
     "data": {
      "application/vnd.jupyter.widget-view+json": {
       "model_id": "",
       "version_major": 2,
       "version_minor": 0
      },
      "text/plain": [
       "Validating: 0it [00:00, ?it/s]"
      ]
     },
     "metadata": {},
     "output_type": "display_data"
    },
    {
     "data": {
      "application/vnd.jupyter.widget-view+json": {
       "model_id": "",
       "version_major": 2,
       "version_minor": 0
      },
      "text/plain": [
       "Validating: 0it [00:00, ?it/s]"
      ]
     },
     "metadata": {},
     "output_type": "display_data"
    },
    {
     "data": {
      "application/vnd.jupyter.widget-view+json": {
       "model_id": "",
       "version_major": 2,
       "version_minor": 0
      },
      "text/plain": [
       "Validating: 0it [00:00, ?it/s]"
      ]
     },
     "metadata": {},
     "output_type": "display_data"
    },
    {
     "data": {
      "application/vnd.jupyter.widget-view+json": {
       "model_id": "",
       "version_major": 2,
       "version_minor": 0
      },
      "text/plain": [
       "Validating: 0it [00:00, ?it/s]"
      ]
     },
     "metadata": {},
     "output_type": "display_data"
    },
    {
     "name": "stderr",
     "output_type": "stream",
     "text": [
      "Error occurred during asynchronous operation processing: Cannot upload file /home/bdwumah74/Indiv_Proj/.neptune/Untitled/IN-10/checkpoints/epoch=38-step=506.ckpt: Path not found or is a not a file.\n",
      "Error occurred during asynchronous operation processing: Cannot upload file /home/bdwumah74/Indiv_Proj/.neptune/Untitled/IN-10/checkpoints/epoch=40-step=532.ckpt: Path not found or is a not a file.\n",
      "Error occurred during asynchronous operation processing: Cannot delete training/model/checkpoints/epoch=38-step=506: Attribute does not exist\n",
      "Error occurred during asynchronous operation processing: Cannot delete training/model/checkpoints/epoch=40-step=532: Attribute does not exist\n"
     ]
    },
    {
     "data": {
      "application/vnd.jupyter.widget-view+json": {
       "model_id": "",
       "version_major": 2,
       "version_minor": 0
      },
      "text/plain": [
       "Validating: 0it [00:00, ?it/s]"
      ]
     },
     "metadata": {},
     "output_type": "display_data"
    },
    {
     "data": {
      "application/vnd.jupyter.widget-view+json": {
       "model_id": "",
       "version_major": 2,
       "version_minor": 0
      },
      "text/plain": [
       "Validating: 0it [00:00, ?it/s]"
      ]
     },
     "metadata": {},
     "output_type": "display_data"
    },
    {
     "data": {
      "application/vnd.jupyter.widget-view+json": {
       "model_id": "",
       "version_major": 2,
       "version_minor": 0
      },
      "text/plain": [
       "Validating: 0it [00:00, ?it/s]"
      ]
     },
     "metadata": {},
     "output_type": "display_data"
    },
    {
     "data": {
      "application/vnd.jupyter.widget-view+json": {
       "model_id": "",
       "version_major": 2,
       "version_minor": 0
      },
      "text/plain": [
       "Validating: 0it [00:00, ?it/s]"
      ]
     },
     "metadata": {},
     "output_type": "display_data"
    },
    {
     "name": "stderr",
     "output_type": "stream",
     "text": [
      "Error occurred during asynchronous operation processing: Cannot upload file /home/bdwumah74/Indiv_Proj/.neptune/Untitled/IN-10/checkpoints/epoch=42-step=558.ckpt: Path not found or is a not a file.\n"
     ]
    },
    {
     "data": {
      "application/vnd.jupyter.widget-view+json": {
       "model_id": "",
       "version_major": 2,
       "version_minor": 0
      },
      "text/plain": [
       "Validating: 0it [00:00, ?it/s]"
      ]
     },
     "metadata": {},
     "output_type": "display_data"
    },
    {
     "data": {
      "application/vnd.jupyter.widget-view+json": {
       "model_id": "",
       "version_major": 2,
       "version_minor": 0
      },
      "text/plain": [
       "Validating: 0it [00:00, ?it/s]"
      ]
     },
     "metadata": {},
     "output_type": "display_data"
    },
    {
     "data": {
      "application/vnd.jupyter.widget-view+json": {
       "model_id": "",
       "version_major": 2,
       "version_minor": 0
      },
      "text/plain": [
       "Validating: 0it [00:00, ?it/s]"
      ]
     },
     "metadata": {},
     "output_type": "display_data"
    },
    {
     "data": {
      "application/vnd.jupyter.widget-view+json": {
       "model_id": "",
       "version_major": 2,
       "version_minor": 0
      },
      "text/plain": [
       "Validating: 0it [00:00, ?it/s]"
      ]
     },
     "metadata": {},
     "output_type": "display_data"
    },
    {
     "data": {
      "application/vnd.jupyter.widget-view+json": {
       "model_id": "",
       "version_major": 2,
       "version_minor": 0
      },
      "text/plain": [
       "Validating: 0it [00:00, ?it/s]"
      ]
     },
     "metadata": {},
     "output_type": "display_data"
    },
    {
     "data": {
      "application/vnd.jupyter.widget-view+json": {
       "model_id": "",
       "version_major": 2,
       "version_minor": 0
      },
      "text/plain": [
       "Validating: 0it [00:00, ?it/s]"
      ]
     },
     "metadata": {},
     "output_type": "display_data"
    },
    {
     "data": {
      "application/vnd.jupyter.widget-view+json": {
       "model_id": "",
       "version_major": 2,
       "version_minor": 0
      },
      "text/plain": [
       "Validating: 0it [00:00, ?it/s]"
      ]
     },
     "metadata": {},
     "output_type": "display_data"
    },
    {
     "data": {
      "application/vnd.jupyter.widget-view+json": {
       "model_id": "",
       "version_major": 2,
       "version_minor": 0
      },
      "text/plain": [
       "Validating: 0it [00:00, ?it/s]"
      ]
     },
     "metadata": {},
     "output_type": "display_data"
    },
    {
     "name": "stderr",
     "output_type": "stream",
     "text": [
      "Error occurred during asynchronous operation processing: Cannot upload file /home/bdwumah74/Indiv_Proj/.neptune/Untitled/IN-10/checkpoints/epoch=44-step=584.ckpt: Path not found or is a not a file.\n",
      "Error occurred during asynchronous operation processing: Cannot upload file /home/bdwumah74/Indiv_Proj/.neptune/Untitled/IN-10/checkpoints/epoch=53-step=701.ckpt: Path not found or is a not a file.\n"
     ]
    },
    {
     "data": {
      "application/vnd.jupyter.widget-view+json": {
       "model_id": "",
       "version_major": 2,
       "version_minor": 0
      },
      "text/plain": [
       "Validating: 0it [00:00, ?it/s]"
      ]
     },
     "metadata": {},
     "output_type": "display_data"
    },
    {
     "data": {
      "application/vnd.jupyter.widget-view+json": {
       "model_id": "",
       "version_major": 2,
       "version_minor": 0
      },
      "text/plain": [
       "Validating: 0it [00:00, ?it/s]"
      ]
     },
     "metadata": {},
     "output_type": "display_data"
    },
    {
     "data": {
      "application/vnd.jupyter.widget-view+json": {
       "model_id": "",
       "version_major": 2,
       "version_minor": 0
      },
      "text/plain": [
       "Validating: 0it [00:00, ?it/s]"
      ]
     },
     "metadata": {},
     "output_type": "display_data"
    },
    {
     "data": {
      "application/vnd.jupyter.widget-view+json": {
       "model_id": "",
       "version_major": 2,
       "version_minor": 0
      },
      "text/plain": [
       "Validating: 0it [00:00, ?it/s]"
      ]
     },
     "metadata": {},
     "output_type": "display_data"
    },
    {
     "data": {
      "application/vnd.jupyter.widget-view+json": {
       "model_id": "",
       "version_major": 2,
       "version_minor": 0
      },
      "text/plain": [
       "Validating: 0it [00:00, ?it/s]"
      ]
     },
     "metadata": {},
     "output_type": "display_data"
    },
    {
     "data": {
      "application/vnd.jupyter.widget-view+json": {
       "model_id": "",
       "version_major": 2,
       "version_minor": 0
      },
      "text/plain": [
       "Validating: 0it [00:00, ?it/s]"
      ]
     },
     "metadata": {},
     "output_type": "display_data"
    },
    {
     "data": {
      "application/vnd.jupyter.widget-view+json": {
       "model_id": "",
       "version_major": 2,
       "version_minor": 0
      },
      "text/plain": [
       "Validating: 0it [00:00, ?it/s]"
      ]
     },
     "metadata": {},
     "output_type": "display_data"
    },
    {
     "data": {
      "application/vnd.jupyter.widget-view+json": {
       "model_id": "",
       "version_major": 2,
       "version_minor": 0
      },
      "text/plain": [
       "Validating: 0it [00:00, ?it/s]"
      ]
     },
     "metadata": {},
     "output_type": "display_data"
    },
    {
     "data": {
      "application/vnd.jupyter.widget-view+json": {
       "model_id": "",
       "version_major": 2,
       "version_minor": 0
      },
      "text/plain": [
       "Validating: 0it [00:00, ?it/s]"
      ]
     },
     "metadata": {},
     "output_type": "display_data"
    },
    {
     "name": "stderr",
     "output_type": "stream",
     "text": [
      "Error occurred during asynchronous operation processing: Cannot upload file /home/bdwumah74/Indiv_Proj/.neptune/Untitled/IN-10/checkpoints/epoch=59-step=779.ckpt: Path not found or is a not a file.\n",
      "Error occurred during asynchronous operation processing: Cannot upload file /home/bdwumah74/Indiv_Proj/.neptune/Untitled/IN-10/checkpoints/epoch=61-step=805.ckpt: Path not found or is a not a file.\n",
      "Error occurred during asynchronous operation processing: Cannot delete training/model/checkpoints/epoch=61-step=805: Attribute does not exist\n"
     ]
    },
    {
     "data": {
      "application/vnd.jupyter.widget-view+json": {
       "model_id": "",
       "version_major": 2,
       "version_minor": 0
      },
      "text/plain": [
       "Validating: 0it [00:00, ?it/s]"
      ]
     },
     "metadata": {},
     "output_type": "display_data"
    },
    {
     "data": {
      "application/vnd.jupyter.widget-view+json": {
       "model_id": "",
       "version_major": 2,
       "version_minor": 0
      },
      "text/plain": [
       "Validating: 0it [00:00, ?it/s]"
      ]
     },
     "metadata": {},
     "output_type": "display_data"
    },
    {
     "data": {
      "application/vnd.jupyter.widget-view+json": {
       "model_id": "",
       "version_major": 2,
       "version_minor": 0
      },
      "text/plain": [
       "Validating: 0it [00:00, ?it/s]"
      ]
     },
     "metadata": {},
     "output_type": "display_data"
    },
    {
     "data": {
      "application/vnd.jupyter.widget-view+json": {
       "model_id": "",
       "version_major": 2,
       "version_minor": 0
      },
      "text/plain": [
       "Validating: 0it [00:00, ?it/s]"
      ]
     },
     "metadata": {},
     "output_type": "display_data"
    },
    {
     "data": {
      "application/vnd.jupyter.widget-view+json": {
       "model_id": "",
       "version_major": 2,
       "version_minor": 0
      },
      "text/plain": [
       "Validating: 0it [00:00, ?it/s]"
      ]
     },
     "metadata": {},
     "output_type": "display_data"
    },
    {
     "data": {
      "application/vnd.jupyter.widget-view+json": {
       "model_id": "",
       "version_major": 2,
       "version_minor": 0
      },
      "text/plain": [
       "Validating: 0it [00:00, ?it/s]"
      ]
     },
     "metadata": {},
     "output_type": "display_data"
    },
    {
     "data": {
      "application/vnd.jupyter.widget-view+json": {
       "model_id": "",
       "version_major": 2,
       "version_minor": 0
      },
      "text/plain": [
       "Validating: 0it [00:00, ?it/s]"
      ]
     },
     "metadata": {},
     "output_type": "display_data"
    },
    {
     "data": {
      "application/vnd.jupyter.widget-view+json": {
       "model_id": "",
       "version_major": 2,
       "version_minor": 0
      },
      "text/plain": [
       "Validating: 0it [00:00, ?it/s]"
      ]
     },
     "metadata": {},
     "output_type": "display_data"
    },
    {
     "data": {
      "application/vnd.jupyter.widget-view+json": {
       "model_id": "",
       "version_major": 2,
       "version_minor": 0
      },
      "text/plain": [
       "Validating: 0it [00:00, ?it/s]"
      ]
     },
     "metadata": {},
     "output_type": "display_data"
    },
    {
     "data": {
      "application/vnd.jupyter.widget-view+json": {
       "model_id": "",
       "version_major": 2,
       "version_minor": 0
      },
      "text/plain": [
       "Validating: 0it [00:00, ?it/s]"
      ]
     },
     "metadata": {},
     "output_type": "display_data"
    },
    {
     "data": {
      "application/vnd.jupyter.widget-view+json": {
       "model_id": "",
       "version_major": 2,
       "version_minor": 0
      },
      "text/plain": [
       "Validating: 0it [00:00, ?it/s]"
      ]
     },
     "metadata": {},
     "output_type": "display_data"
    },
    {
     "data": {
      "application/vnd.jupyter.widget-view+json": {
       "model_id": "",
       "version_major": 2,
       "version_minor": 0
      },
      "text/plain": [
       "Validating: 0it [00:00, ?it/s]"
      ]
     },
     "metadata": {},
     "output_type": "display_data"
    },
    {
     "data": {
      "application/vnd.jupyter.widget-view+json": {
       "model_id": "",
       "version_major": 2,
       "version_minor": 0
      },
      "text/plain": [
       "Validating: 0it [00:00, ?it/s]"
      ]
     },
     "metadata": {},
     "output_type": "display_data"
    },
    {
     "data": {
      "application/vnd.jupyter.widget-view+json": {
       "model_id": "",
       "version_major": 2,
       "version_minor": 0
      },
      "text/plain": [
       "Validating: 0it [00:00, ?it/s]"
      ]
     },
     "metadata": {},
     "output_type": "display_data"
    },
    {
     "data": {
      "application/vnd.jupyter.widget-view+json": {
       "model_id": "",
       "version_major": 2,
       "version_minor": 0
      },
      "text/plain": [
       "Validating: 0it [00:00, ?it/s]"
      ]
     },
     "metadata": {},
     "output_type": "display_data"
    },
    {
     "data": {
      "application/vnd.jupyter.widget-view+json": {
       "model_id": "",
       "version_major": 2,
       "version_minor": 0
      },
      "text/plain": [
       "Validating: 0it [00:00, ?it/s]"
      ]
     },
     "metadata": {},
     "output_type": "display_data"
    },
    {
     "data": {
      "application/vnd.jupyter.widget-view+json": {
       "model_id": "",
       "version_major": 2,
       "version_minor": 0
      },
      "text/plain": [
       "Validating: 0it [00:00, ?it/s]"
      ]
     },
     "metadata": {},
     "output_type": "display_data"
    },
    {
     "data": {
      "application/vnd.jupyter.widget-view+json": {
       "model_id": "",
       "version_major": 2,
       "version_minor": 0
      },
      "text/plain": [
       "Validating: 0it [00:00, ?it/s]"
      ]
     },
     "metadata": {},
     "output_type": "display_data"
    },
    {
     "data": {
      "application/vnd.jupyter.widget-view+json": {
       "model_id": "",
       "version_major": 2,
       "version_minor": 0
      },
      "text/plain": [
       "Validating: 0it [00:00, ?it/s]"
      ]
     },
     "metadata": {},
     "output_type": "display_data"
    },
    {
     "data": {
      "application/vnd.jupyter.widget-view+json": {
       "model_id": "",
       "version_major": 2,
       "version_minor": 0
      },
      "text/plain": [
       "Validating: 0it [00:00, ?it/s]"
      ]
     },
     "metadata": {},
     "output_type": "display_data"
    },
    {
     "data": {
      "application/vnd.jupyter.widget-view+json": {
       "model_id": "",
       "version_major": 2,
       "version_minor": 0
      },
      "text/plain": [
       "Validating: 0it [00:00, ?it/s]"
      ]
     },
     "metadata": {},
     "output_type": "display_data"
    },
    {
     "data": {
      "application/vnd.jupyter.widget-view+json": {
       "model_id": "",
       "version_major": 2,
       "version_minor": 0
      },
      "text/plain": [
       "Validating: 0it [00:00, ?it/s]"
      ]
     },
     "metadata": {},
     "output_type": "display_data"
    },
    {
     "data": {
      "application/vnd.jupyter.widget-view+json": {
       "model_id": "",
       "version_major": 2,
       "version_minor": 0
      },
      "text/plain": [
       "Validating: 0it [00:00, ?it/s]"
      ]
     },
     "metadata": {},
     "output_type": "display_data"
    },
    {
     "data": {
      "application/vnd.jupyter.widget-view+json": {
       "model_id": "",
       "version_major": 2,
       "version_minor": 0
      },
      "text/plain": [
       "Validating: 0it [00:00, ?it/s]"
      ]
     },
     "metadata": {},
     "output_type": "display_data"
    },
    {
     "data": {
      "application/vnd.jupyter.widget-view+json": {
       "model_id": "",
       "version_major": 2,
       "version_minor": 0
      },
      "text/plain": [
       "Validating: 0it [00:00, ?it/s]"
      ]
     },
     "metadata": {},
     "output_type": "display_data"
    },
    {
     "data": {
      "application/vnd.jupyter.widget-view+json": {
       "model_id": "",
       "version_major": 2,
       "version_minor": 0
      },
      "text/plain": [
       "Validating: 0it [00:00, ?it/s]"
      ]
     },
     "metadata": {},
     "output_type": "display_data"
    },
    {
     "data": {
      "application/vnd.jupyter.widget-view+json": {
       "model_id": "",
       "version_major": 2,
       "version_minor": 0
      },
      "text/plain": [
       "Validating: 0it [00:00, ?it/s]"
      ]
     },
     "metadata": {},
     "output_type": "display_data"
    },
    {
     "data": {
      "application/vnd.jupyter.widget-view+json": {
       "model_id": "",
       "version_major": 2,
       "version_minor": 0
      },
      "text/plain": [
       "Validating: 0it [00:00, ?it/s]"
      ]
     },
     "metadata": {},
     "output_type": "display_data"
    },
    {
     "data": {
      "application/vnd.jupyter.widget-view+json": {
       "model_id": "",
       "version_major": 2,
       "version_minor": 0
      },
      "text/plain": [
       "Validating: 0it [00:00, ?it/s]"
      ]
     },
     "metadata": {},
     "output_type": "display_data"
    },
    {
     "data": {
      "application/vnd.jupyter.widget-view+json": {
       "model_id": "",
       "version_major": 2,
       "version_minor": 0
      },
      "text/plain": [
       "Validating: 0it [00:00, ?it/s]"
      ]
     },
     "metadata": {},
     "output_type": "display_data"
    },
    {
     "data": {
      "application/vnd.jupyter.widget-view+json": {
       "model_id": "",
       "version_major": 2,
       "version_minor": 0
      },
      "text/plain": [
       "Validating: 0it [00:00, ?it/s]"
      ]
     },
     "metadata": {},
     "output_type": "display_data"
    },
    {
     "data": {
      "application/vnd.jupyter.widget-view+json": {
       "model_id": "",
       "version_major": 2,
       "version_minor": 0
      },
      "text/plain": [
       "Validating: 0it [00:00, ?it/s]"
      ]
     },
     "metadata": {},
     "output_type": "display_data"
    },
    {
     "data": {
      "application/vnd.jupyter.widget-view+json": {
       "model_id": "",
       "version_major": 2,
       "version_minor": 0
      },
      "text/plain": [
       "Validating: 0it [00:00, ?it/s]"
      ]
     },
     "metadata": {},
     "output_type": "display_data"
    },
    {
     "data": {
      "application/vnd.jupyter.widget-view+json": {
       "model_id": "",
       "version_major": 2,
       "version_minor": 0
      },
      "text/plain": [
       "Validating: 0it [00:00, ?it/s]"
      ]
     },
     "metadata": {},
     "output_type": "display_data"
    },
    {
     "data": {
      "application/vnd.jupyter.widget-view+json": {
       "model_id": "",
       "version_major": 2,
       "version_minor": 0
      },
      "text/plain": [
       "Validating: 0it [00:00, ?it/s]"
      ]
     },
     "metadata": {},
     "output_type": "display_data"
    },
    {
     "data": {
      "application/vnd.jupyter.widget-view+json": {
       "model_id": "",
       "version_major": 2,
       "version_minor": 0
      },
      "text/plain": [
       "Validating: 0it [00:00, ?it/s]"
      ]
     },
     "metadata": {},
     "output_type": "display_data"
    },
    {
     "data": {
      "application/vnd.jupyter.widget-view+json": {
       "model_id": "",
       "version_major": 2,
       "version_minor": 0
      },
      "text/plain": [
       "Validating: 0it [00:00, ?it/s]"
      ]
     },
     "metadata": {},
     "output_type": "display_data"
    },
    {
     "data": {
      "application/vnd.jupyter.widget-view+json": {
       "model_id": "",
       "version_major": 2,
       "version_minor": 0
      },
      "text/plain": [
       "Validating: 0it [00:00, ?it/s]"
      ]
     },
     "metadata": {},
     "output_type": "display_data"
    },
    {
     "data": {
      "application/vnd.jupyter.widget-view+json": {
       "model_id": "",
       "version_major": 2,
       "version_minor": 0
      },
      "text/plain": [
       "Validating: 0it [00:00, ?it/s]"
      ]
     },
     "metadata": {},
     "output_type": "display_data"
    },
    {
     "data": {
      "application/vnd.jupyter.widget-view+json": {
       "model_id": "",
       "version_major": 2,
       "version_minor": 0
      },
      "text/plain": [
       "Validating: 0it [00:00, ?it/s]"
      ]
     },
     "metadata": {},
     "output_type": "display_data"
    },
    {
     "data": {
      "application/vnd.jupyter.widget-view+json": {
       "model_id": "",
       "version_major": 2,
       "version_minor": 0
      },
      "text/plain": [
       "Validating: 0it [00:00, ?it/s]"
      ]
     },
     "metadata": {},
     "output_type": "display_data"
    },
    {
     "data": {
      "application/vnd.jupyter.widget-view+json": {
       "model_id": "",
       "version_major": 2,
       "version_minor": 0
      },
      "text/plain": [
       "Validating: 0it [00:00, ?it/s]"
      ]
     },
     "metadata": {},
     "output_type": "display_data"
    },
    {
     "data": {
      "application/vnd.jupyter.widget-view+json": {
       "model_id": "",
       "version_major": 2,
       "version_minor": 0
      },
      "text/plain": [
       "Validating: 0it [00:00, ?it/s]"
      ]
     },
     "metadata": {},
     "output_type": "display_data"
    },
    {
     "data": {
      "application/vnd.jupyter.widget-view+json": {
       "model_id": "",
       "version_major": 2,
       "version_minor": 0
      },
      "text/plain": [
       "Validating: 0it [00:00, ?it/s]"
      ]
     },
     "metadata": {},
     "output_type": "display_data"
    },
    {
     "data": {
      "application/vnd.jupyter.widget-view+json": {
       "model_id": "",
       "version_major": 2,
       "version_minor": 0
      },
      "text/plain": [
       "Validating: 0it [00:00, ?it/s]"
      ]
     },
     "metadata": {},
     "output_type": "display_data"
    }
   ],
   "source": [
    "# start training\n",
    "trainer.fit(\n",
    "    model=task, train_dataloaders=dataloader_train, val_dataloaders=dataloader_valid)"
   ]
  },
  {
   "cell_type": "code",
   "execution_count": 39,
   "id": "ba5ba056-0b68-496b-892a-d644b047d78c",
   "metadata": {},
   "outputs": [
    {
     "name": "stderr",
     "output_type": "stream",
     "text": [
      "Restoring states from the checkpoint path at /home/bdwumah74/Indiv_Proj/.neptune/Untitled/IN-10/checkpoints/epoch=63-step=831.ckpt\n",
      "Loaded model weights from checkpoint at /home/bdwumah74/Indiv_Proj/.neptune/Untitled/IN-10/checkpoints/epoch=63-step=831.ckpt\n"
     ]
    },
    {
     "data": {
      "application/vnd.jupyter.widget-view+json": {
       "model_id": "b9c6178bc2414251a78ac7a64646bee9",
       "version_major": 2,
       "version_minor": 0
      },
      "text/plain": [
       "Testing: 0it [00:00, ?it/s]"
      ]
     },
     "metadata": {},
     "output_type": "display_data"
    },
    {
     "name": "stdout",
     "output_type": "stream",
     "text": [
      "--------------------------------------------------------------------------------\n",
      "DATALOADER:0 TEST RESULTS\n",
      "{'Test_AP_1': 0.0, 'Test_mAP': 0.0}\n",
      "--------------------------------------------------------------------------------\n"
     ]
    },
    {
     "data": {
      "text/plain": [
       "[{'Test_mAP': 0.0, 'Test_AP_1': 0.0}]"
      ]
     },
     "execution_count": 39,
     "metadata": {},
     "output_type": "execute_result"
    }
   ],
   "source": [
    "# start testing\n",
    "trainer.test(ckpt_path=\"best\", dataloaders=dataloader_test)"
   ]
  },
  {
   "cell_type": "code",
   "execution_count": 41,
   "id": "67689966-3e56-46ea-8493-e1fda7c554b7",
   "metadata": {},
   "outputs": [
    {
     "ename": "NeptunePossibleLegacyUsageException",
     "evalue": "\n\u001b[95m\n----NeptunePossibleLegacyUsageException----------------------------------------------------------------\n\u001b[0m\nIt seems you are trying to use legacy API, but imported the new one.\n\nSimply update your import statement to:\n    \u001b[96mimport neptune\u001b[0m\n\nYou may want to check the Legacy API docs:\n    - https://docs-legacy.neptune.ai\n\nIf you want to update your code with the new API we prepared a handy migration guide:\n    - https://docs.neptune.ai/migration-guide\n\nYou can read more about neptune.new in the release blog post:\n    - https://neptune.ai/blog/neptune-new\n\nYou may also want to check the following docs pages:\n    - https://docs-legacy.neptune.ai/getting-started/integrate-neptune-into-your-codebase.html\n\n\u001b[92mNeed help?\u001b[0m-> https://docs.neptune.ai/getting-started/getting-help\n",
     "output_type": "error",
     "traceback": [
      "\u001b[0;31m---------------------------------------------------------------------------\u001b[0m",
      "\u001b[0;31mNeptunePossibleLegacyUsageException\u001b[0m       Traceback (most recent call last)",
      "Cell \u001b[0;32mIn [41], line 3\u001b[0m\n\u001b[1;32m      1\u001b[0m \u001b[38;5;66;03m# log mapping as table\u001b[39;00m\n\u001b[1;32m      2\u001b[0m \u001b[38;5;28;01mimport\u001b[39;00m \u001b[38;5;21;01mneptune\u001b[39;00m\n\u001b[0;32m----> 3\u001b[0m log_mapping_neptune(mapping\u001b[38;5;241m=\u001b[39mmapping, neptune_logger\u001b[38;5;241m=\u001b[39mneptune_logger)\n",
      "File \u001b[0;32m~/Indiv_Proj/pytorch_faster_rcnn/utils.py:191\u001b[0m, in \u001b[0;36mlog_mapping_neptune\u001b[0;34m(mapping, neptune_logger)\u001b[0m\n\u001b[1;32m    187\u001b[0m \u001b[38;5;124;03m\"\"\"Uses the neptunecontrib.api to log a class mapping.\"\"\"\u001b[39;00m\n\u001b[1;32m    188\u001b[0m mapping_df \u001b[38;5;241m=\u001b[39m pd\u001b[38;5;241m.\u001b[39mDataFrame\u001b[38;5;241m.\u001b[39mfrom_dict(\n\u001b[1;32m    189\u001b[0m     mapping, orient\u001b[38;5;241m=\u001b[39m\u001b[38;5;124m\"\u001b[39m\u001b[38;5;124mindex\u001b[39m\u001b[38;5;124m\"\u001b[39m, columns\u001b[38;5;241m=\u001b[39m[\u001b[38;5;124m\"\u001b[39m\u001b[38;5;124mclass_value\u001b[39m\u001b[38;5;124m\"\u001b[39m]\n\u001b[1;32m    190\u001b[0m )\n\u001b[0;32m--> 191\u001b[0m \u001b[43mlog_table\u001b[49m\u001b[43m(\u001b[49m\u001b[43mname\u001b[49m\u001b[38;5;241;43m=\u001b[39;49m\u001b[38;5;124;43m\"\u001b[39;49m\u001b[38;5;124;43mmapping\u001b[39;49m\u001b[38;5;124;43m\"\u001b[39;49m\u001b[43m,\u001b[49m\u001b[43m \u001b[49m\u001b[43mtable\u001b[49m\u001b[38;5;241;43m=\u001b[39;49m\u001b[43mmapping_df\u001b[49m\u001b[43m,\u001b[49m\u001b[43m \u001b[49m\u001b[43mexperiment\u001b[49m\u001b[38;5;241;43m=\u001b[39;49m\u001b[43mneptune_logger\u001b[49m\u001b[38;5;241;43m.\u001b[39;49m\u001b[43mexperiment\u001b[49m\u001b[43m)\u001b[49m\n",
      "File \u001b[0;32m~/anaconda3/envs/Indiv_Proj/lib/python3.8/site-packages/neptunecontrib/api/table.py:66\u001b[0m, in \u001b[0;36mlog_table\u001b[0;34m(name, table, experiment)\u001b[0m\n\u001b[1;32m     25\u001b[0m \u001b[38;5;124;03m\"\"\"Logs pandas dataframe to neptune.\u001b[39;00m\n\u001b[1;32m     26\u001b[0m \n\u001b[1;32m     27\u001b[0m \u001b[38;5;124;03mPandas dataframe is converted to an HTML table and logged to Neptune as an artifact with path tables/{name}.html\u001b[39;00m\n\u001b[0;32m   (...)\u001b[0m\n\u001b[1;32m     62\u001b[0m \u001b[38;5;124;03m    https://ui.neptune.ai/o/shared/org/showroom/e/SHOW-977/artifacts?path=tables%2F&file=pandas_df.html\u001b[39;00m\n\u001b[1;32m     63\u001b[0m \u001b[38;5;124;03m \"\"\"\u001b[39;00m\n\u001b[1;32m     64\u001b[0m _exp \u001b[38;5;241m=\u001b[39m experiment \u001b[38;5;28;01mif\u001b[39;00m experiment \u001b[38;5;28;01melse\u001b[39;00m neptune\n\u001b[0;32m---> 66\u001b[0m \u001b[43m_exp\u001b[49m\u001b[38;5;241;43m.\u001b[39;49m\u001b[43mlog_artifact\u001b[49m(export_pandas_dataframe(table, \u001b[38;5;124m'\u001b[39m\u001b[38;5;124mhtml\u001b[39m\u001b[38;5;124m'\u001b[39m), \u001b[38;5;124m'\u001b[39m\u001b[38;5;124mtables/\u001b[39m\u001b[38;5;132;01m{}\u001b[39;00m\u001b[38;5;124m.html\u001b[39m\u001b[38;5;124m'\u001b[39m\u001b[38;5;241m.\u001b[39mformat(name))\n",
      "File \u001b[0;32m~/anaconda3/envs/Indiv_Proj/lib/python3.8/site-packages/neptune/new/attribute_container.py:128\u001b[0m, in \u001b[0;36mAttributeContainer.__getattr__\u001b[0;34m(self, item)\u001b[0m\n\u001b[1;32m    126\u001b[0m \u001b[38;5;28;01mdef\u001b[39;00m \u001b[38;5;21m__getattr__\u001b[39m(\u001b[38;5;28mself\u001b[39m, item):\n\u001b[1;32m    127\u001b[0m     \u001b[38;5;28;01mif\u001b[39;00m item \u001b[38;5;129;01min\u001b[39;00m \u001b[38;5;28mself\u001b[39m\u001b[38;5;241m.\u001b[39mLEGACY_METHODS:\n\u001b[0;32m--> 128\u001b[0m         \u001b[38;5;28;01mraise\u001b[39;00m NeptunePossibleLegacyUsageException()\n\u001b[1;32m    129\u001b[0m     \u001b[38;5;28;01mraise\u001b[39;00m \u001b[38;5;167;01mAttributeError\u001b[39;00m(\n\u001b[1;32m    130\u001b[0m         \u001b[38;5;124mf\u001b[39m\u001b[38;5;124m\"\u001b[39m\u001b[38;5;124m'\u001b[39m\u001b[38;5;132;01m{\u001b[39;00m\u001b[38;5;28mself\u001b[39m\u001b[38;5;241m.\u001b[39m\u001b[38;5;18m__class__\u001b[39m\u001b[38;5;241m.\u001b[39m\u001b[38;5;18m__name__\u001b[39m\u001b[38;5;132;01m}\u001b[39;00m\u001b[38;5;124m'\u001b[39m\u001b[38;5;124m object has no attribute \u001b[39m\u001b[38;5;124m'\u001b[39m\u001b[38;5;132;01m{\u001b[39;00mitem\u001b[38;5;132;01m}\u001b[39;00m\u001b[38;5;124m'\u001b[39m\u001b[38;5;124m\"\u001b[39m\n\u001b[1;32m    131\u001b[0m     )\n",
      "\u001b[0;31mNeptunePossibleLegacyUsageException\u001b[0m: \n\u001b[95m\n----NeptunePossibleLegacyUsageException----------------------------------------------------------------\n\u001b[0m\nIt seems you are trying to use legacy API, but imported the new one.\n\nSimply update your import statement to:\n    \u001b[96mimport neptune\u001b[0m\n\nYou may want to check the Legacy API docs:\n    - https://docs-legacy.neptune.ai\n\nIf you want to update your code with the new API we prepared a handy migration guide:\n    - https://docs.neptune.ai/migration-guide\n\nYou can read more about neptune.new in the release blog post:\n    - https://neptune.ai/blog/neptune-new\n\nYou may also want to check the following docs pages:\n    - https://docs-legacy.neptune.ai/getting-started/integrate-neptune-into-your-codebase.html\n\n\u001b[92mNeed help?\u001b[0m-> https://docs.neptune.ai/getting-started/getting-help\n"
     ]
    },
    {
     "name": "stderr",
     "output_type": "stream",
     "text": [
      "Run IN-10 received stop signal. Exiting\n"
     ]
    },
    {
     "name": "stdout",
     "output_type": "stream",
     "text": [
      "Shutting down background jobs, please wait a moment...\n",
      "Done!\n"
     ]
    },
    {
     "name": "stderr",
     "output_type": "stream",
     "text": [
      "Waiting for the remaining 3 operations to synchronize with Neptune. Do not kill this process.\n"
     ]
    },
    {
     "name": "stdout",
     "output_type": "stream",
     "text": [
      "All 3 operations synced, thanks for waiting!\n"
     ]
    }
   ],
   "source": [
    "# log mapping as table\n",
    "log_mapping_neptune(mapping=mapping, neptune_logger=neptune_logger)"
   ]
  },
  {
   "cell_type": "code",
   "execution_count": null,
   "id": "002f8a97-4f9f-4a40-adeb-c768b8700f9f",
   "metadata": {},
   "outputs": [],
   "source": []
  },
  {
   "cell_type": "code",
   "execution_count": null,
   "id": "7d0d52e4-c946-4118-b0c9-51eda03d26b1",
   "metadata": {},
   "outputs": [],
   "source": []
  }
 ],
 "metadata": {
  "kernelspec": {
   "display_name": "Python 3 (ipykernel)",
   "language": "python",
   "name": "python3"
  },
  "language_info": {
   "codemirror_mode": {
    "name": "ipython",
    "version": 3
   },
   "file_extension": ".py",
   "mimetype": "text/x-python",
   "name": "python",
   "nbconvert_exporter": "python",
   "pygments_lexer": "ipython3",
   "version": "3.8.13"
  }
 },
 "nbformat": 4,
 "nbformat_minor": 5
}
