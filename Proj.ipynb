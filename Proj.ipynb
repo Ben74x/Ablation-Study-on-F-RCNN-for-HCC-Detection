{
 "cells": [
  {
   "cell_type": "code",
   "execution_count": 1,
   "id": "94c27595",
   "metadata": {
    "scrolled": true
   },
   "outputs": [],
   "source": [
    "import pathlib\n",
    "from utils import get_filenames_of_path"
   ]
  },
  {
   "cell_type": "code",
   "execution_count": 2,
   "id": "0573c387",
   "metadata": {},
   "outputs": [],
   "source": [
    "root = pathlib.Path(\"/home/bdwumah74/Indiv_Proj\")\n",
    "\n",
    "inputs = get_filenames_of_path(root / 'Dataset')\n",
    "inputs.sort()\n",
    "\n",
    "\n",
    "for idx, path in enumerate(inputs):\n",
    "    old_name = path.stem\n",
    "    old_extension = path.suffix\n",
    "    dir = path.parent\n",
    "    new_name = str(idx).zfill(3) + old_extension\n",
    "    path.rename(pathlib.Path(dir, new_name))"
   ]
  },
  {
   "cell_type": "code",
   "execution_count": null,
   "id": "44c694e2",
   "metadata": {},
   "outputs": [
    {
     "name": "stderr",
     "output_type": "stream",
     "text": [
      "WARNING: Warning: Ignoring XDG_SESSION_TYPE=wayland on Gnome. Use QT_QPA_PLATFORM=wayland to run on Wayland anyway.\n",
      "WARNING: QObject::moveToThread: Current thread (0x558858126d80) is not the object's thread (0x558859051460).\n",
      "Cannot move to target thread (0x558858126d80)\n",
      "\n",
      "WARNING: Could not load the Qt platform plugin \"xcb\" in \"/home/bdwumah74/anaconda3/lib/python3.8/site-packages/cv2/qt/plugins\" even though it was found.\n"
     ]
    }
   ],
   "source": [
    "import pathlib\n",
    "from pytorch_faster_rcnn.visual import Annotator\n",
    "\n",
    "from utils import get_filenames_of_path\n",
    "\n",
    "dir = pathlib.Path(\"/home/bdwumah74/Indiv_Proj\")\n",
    "image_files = get_filenames_of_path(dir / 'Dataset')\n",
    "\n",
    "annotator = Annotator(image_ids=image_files)\n",
    "annotator.napari()"
   ]
  },
  {
   "cell_type": "code",
   "execution_count": null,
   "id": "f189ec04",
   "metadata": {},
   "outputs": [],
   "source": []
  }
 ],
 "metadata": {
  "kernelspec": {
   "display_name": "Python 3 (ipykernel)",
   "language": "python",
   "name": "python3"
  },
  "language_info": {
   "codemirror_mode": {
    "name": "ipython",
    "version": 3
   },
   "file_extension": ".py",
   "mimetype": "text/x-python",
   "name": "python",
   "nbconvert_exporter": "python",
   "pygments_lexer": "ipython3",
   "version": "3.8.13"
  }
 },
 "nbformat": 4,
 "nbformat_minor": 5
}
